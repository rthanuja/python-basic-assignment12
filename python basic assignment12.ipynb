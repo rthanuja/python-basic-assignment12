{
 "cells": [
  {
   "cell_type": "code",
   "execution_count": null,
   "id": "d4469bce",
   "metadata": {},
   "outputs": [],
   "source": [
    "#1. In what modes should the PdfFileReader() and PdfFileWriter() File objects will be opened?\n",
    "\n",
    "PdfFileReader() will be opened in read binary mode (open(pdf,'rb')).\n",
    "PdfFileWriter()  will be opened in write binary mode (open(pdf,'wb'))"
   ]
  },
  {
   "cell_type": "code",
   "execution_count": null,
   "id": "0303e9bc",
   "metadata": {},
   "outputs": [],
   "source": [
    "#2. From a PdfFileReader object, how do you get a Page object for page 5?\n",
    "\n",
    "we can get page object by calling getpage() method.\n",
    "PdfFileReaderobject.getpage(4)"
   ]
  },
  {
   "cell_type": "code",
   "execution_count": null,
   "id": "c0a690ae",
   "metadata": {},
   "outputs": [],
   "source": [
    "#3. What PdfFileReader variable stores the number of pages in the PDF document?\n",
    "\n",
    "numpages attribute of a PdfFileReader object stores the number of pages in the PDF document"
   ]
  },
  {
   "cell_type": "code",
   "execution_count": null,
   "id": "938c4392",
   "metadata": {},
   "outputs": [],
   "source": [
    "'''4. If a PdfFileReader object’s PDF is encrypted with the password swordfish, what must you do before you can obtain\n",
    "Page objects from it?'''\n",
    "\n",
    "PdfFileReaderobject.decrypt('swordfish')\n",
    "To read an encrypted PDF,we should call the decrypt() function and pass the password as a string."
   ]
  },
  {
   "cell_type": "code",
   "execution_count": null,
   "id": "3973a903",
   "metadata": {},
   "outputs": [],
   "source": [
    "#5. What methods do you use to rotate a page?\n",
    "\n",
    "The pages of a PDF can be rotated in 90-degree increments with the \n",
    "1.rotateClockwise() and \n",
    "2.rotateCounterClockwise() methods."
   ]
  },
  {
   "cell_type": "code",
   "execution_count": null,
   "id": "de3e2ed6",
   "metadata": {},
   "outputs": [],
   "source": [
    "#6. What is the difference between a Run object and a Paragraph object?\n",
    "\n",
    "A Run object is a contiguous run of text with the same style and a new Run object is needed whenever the text style changes.\n",
    "A new paragraph begins whenever the user presses ENTER or RETURN while typing in a Word document. Each of these \n",
    "Paragraph objects contains a list of one or more Run objects."
   ]
  },
  {
   "cell_type": "code",
   "execution_count": 18,
   "id": "74cecc0d",
   "metadata": {
    "scrolled": true
   },
   "outputs": [],
   "source": [
    "#7. How do you obtain a list of Paragraph objects for a Document object that’s stored in a variable named doc?\n",
    "\n",
    "doc.paragraphs will give the list of paragraph objects for a document object. Each of these Paragraph objects has a\n",
    "text attribute that contains a string of the text in that paragraph (without the style information).\n",
    "for text:\n",
    "    for i in range(len(doc.paragraphs)):\n",
    "        doc.paragraphs[i].text"
   ]
  },
  {
   "cell_type": "code",
   "execution_count": 5,
   "id": "c68becdf",
   "metadata": {},
   "outputs": [
    {
     "name": "stdout",
     "output_type": "stream",
     "text": [
      "[<docx.text.paragraph.Paragraph object at 0x00000202B8CB7490>, <docx.text.paragraph.Paragraph object at 0x00000202B8CB6FE0>, <docx.text.paragraph.Paragraph object at 0x00000202B8CB7160>, <docx.text.paragraph.Paragraph object at 0x00000202B8CB76D0>, <docx.text.paragraph.Paragraph object at 0x00000202B8604D90>, <docx.text.paragraph.Paragraph object at 0x00000202B8607610>, <docx.text.paragraph.Paragraph object at 0x00000202B8604A00>, <docx.text.paragraph.Paragraph object at 0x00000202B8604850>, <docx.text.paragraph.Paragraph object at 0x00000202B86054B0>, <docx.text.paragraph.Paragraph object at 0x00000202B8606140>, <docx.text.paragraph.Paragraph object at 0x00000202B6E891E0>, <docx.text.paragraph.Paragraph object at 0x00000202B6E88580>, <docx.text.paragraph.Paragraph object at 0x00000202B6E88520>]\n",
      "1. In what modes should the PdfFileReader() and PdfFileWriter() File objects will be opened?\n",
      "2. From a PdfFileReader object, how do you get a Page object for page 5?\n",
      "3. What PdfFileReader variable stores the number of pages in the PDF document?\n",
      "4. If a PdfFileReader object’s PDF is encrypted with the password swordfish, what must you do before you can obtain Page objects from it?\n",
      "5. What methods do you use to rotate a page?\n",
      "6. What is the difference between a Run object and a Paragraph object?\n",
      "7. How do you obtain a list of Paragraph objects for a Document object that’s stored in a variable named doc?\n",
      "8. What type of object has bold, underline, italic, strike, and outline variables?\n",
      "9. What is the difference between False, True, and None for the bold variable?\n",
      "10. How do you create a Document object for a new Word document?\n",
      "11. How do you add a paragraph with the text 'Hello, there!' to a Document object stored in a variable named doc?\n",
      "12. What integers represent the levels of headings available in Word documents?\n",
      "\n"
     ]
    }
   ],
   "source": [
    "import docx\n",
    "doc=docx.Document(r\"C:\\Users\\rthan\\Downloads\\Assignment_12.docx\")\n",
    "print(doc.paragraphs)\n",
    "for i in range(len(doc.paragraphs)):\n",
    "       print(doc.paragraphs[i].text)"
   ]
  },
  {
   "cell_type": "code",
   "execution_count": null,
   "id": "dc15f484",
   "metadata": {},
   "outputs": [],
   "source": [
    "#8. What type of object has bold, underline, italic, strike, and outline variable?\n",
    "\n",
    "run object has attributes bold, underline, italic, strike, and outline."
   ]
  },
  {
   "cell_type": "code",
   "execution_count": null,
   "id": "a9f93e0a",
   "metadata": {},
   "outputs": [],
   "source": [
    "#9. What is the difference between False, True, and None for the bold variable?\n",
    "\n",
    "bold=True means that style is set to bold, no matter what other styles are applied to the run.\n",
    "bold=False means that the bold style is always disabled\n",
    "bold=None means that it defaults to whatever the run’s style is set to"
   ]
  },
  {
   "cell_type": "code",
   "execution_count": null,
   "id": "8261286e",
   "metadata": {},
   "outputs": [],
   "source": [
    "#10. How do you create a Document object for a new Word document?\n",
    "\n",
    "import docx\n",
    "documentobject=docx.Document('word.docx')"
   ]
  },
  {
   "cell_type": "code",
   "execution_count": null,
   "id": "c2f5dfe8",
   "metadata": {},
   "outputs": [],
   "source": [
    "#11. How do you add a paragraph with the text \"Hello, there\" to a Document object stored in a variable named doc?\n",
    "\n",
    "doc.add_paragraph('Hello,there')\n",
    "doc.save(\"name.docx\")"
   ]
  },
  {
   "cell_type": "code",
   "execution_count": null,
   "id": "589bd801",
   "metadata": {},
   "outputs": [],
   "source": [
    "#12. What integers represent the levels of headings available in Word documents?\n",
    "\n",
    "Integers 0 to 4 represent the levels of headings available in Word documents.\n",
    "syntax:\n",
    "    docobject.add_heading(\"headingstring\",integer)  \n",
    "The integer 0 makes the heading the Title style, which is used for the top of the document. \n",
    "Integers 1 to 4 are for various heading levels, with 1 being the main heading and 4 the lowest subheading"
   ]
  }
 ],
 "metadata": {
  "kernelspec": {
   "display_name": "Python 3 (ipykernel)",
   "language": "python",
   "name": "python3"
  },
  "language_info": {
   "codemirror_mode": {
    "name": "ipython",
    "version": 3
   },
   "file_extension": ".py",
   "mimetype": "text/x-python",
   "name": "python",
   "nbconvert_exporter": "python",
   "pygments_lexer": "ipython3",
   "version": "3.10.9"
  }
 },
 "nbformat": 4,
 "nbformat_minor": 5
}
